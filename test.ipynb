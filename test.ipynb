{
 "cells": [
  {
   "cell_type": "code",
   "execution_count": 1,
   "metadata": {},
   "outputs": [
    {
     "name": "stdout",
     "output_type": "stream",
     "text": [
      "env: CUDA_VISIBLE_DEVICES=5\n",
      "env: XLA_PYTHON_CLIENT_PREALLOCATE=false\n"
     ]
    }
   ],
   "source": [
    "%env CUDA_VISIBLE_DEVICES=5\n",
    "%env XLA_PYTHON_CLIENT_PREALLOCATE=false"
   ]
  },
  {
   "cell_type": "code",
   "execution_count": 2,
   "metadata": {},
   "outputs": [
    {
     "name": "stderr",
     "output_type": "stream",
     "text": [
      "/raid/huzheyuan/anaconda3/envs/jax/lib/python3.10/site-packages/tqdm/auto.py:22: TqdmWarning: IProgress not found. Please update jupyter and ipywidgets. See https://ipywidgets.readthedocs.io/en/stable/user_install.html\n",
      "  from .autonotebook import tqdm as notebook_tqdm\n"
     ]
    }
   ],
   "source": [
    "from jeffnet.linen import create_model\n",
    "from jax import numpy as jnp"
   ]
  },
  {
   "cell_type": "code",
   "execution_count": 3,
   "metadata": {},
   "outputs": [
    {
     "name": "stdout",
     "output_type": "stream",
     "text": [
      " WARNING: 2 unexpected keys found while loading state_dict. ['head.classifier.bias', 'head.classifier.kernel']\n"
     ]
    }
   ],
   "source": [
    "model, variables = create_model('pt_mobilenetv3_large_100', pretrained=True)"
   ]
  },
  {
   "cell_type": "code",
   "execution_count": 4,
   "metadata": {},
   "outputs": [],
   "source": [
    "x = jnp.ones((1, 84, 84, 3))\n",
    "y = model.apply(variables, x, mutable=False, training=False)"
   ]
  },
  {
   "cell_type": "code",
   "execution_count": 5,
   "metadata": {},
   "outputs": [
    {
     "data": {
      "text/plain": [
       "(1, 1, 1, 1280)"
      ]
     },
     "execution_count": 5,
     "metadata": {},
     "output_type": "execute_result"
    }
   ],
   "source": [
    "y.shape"
   ]
  },
  {
   "cell_type": "code",
   "execution_count": 6,
   "metadata": {},
   "outputs": [
    {
     "data": {
      "text/plain": [
       "(1280,)"
      ]
     },
     "execution_count": 6,
     "metadata": {},
     "output_type": "execute_result"
    }
   ],
   "source": [
    "y.squeeze().shape"
   ]
  },
  {
   "cell_type": "code",
   "execution_count": 7,
   "metadata": {},
   "outputs": [
    {
     "data": {
      "text/plain": [
       "(1, 1280)"
      ]
     },
     "execution_count": 7,
     "metadata": {},
     "output_type": "execute_result"
    }
   ],
   "source": [
    "y.reshape((*y.shape[:-3], -1)).shape"
   ]
  },
  {
   "cell_type": "code",
   "execution_count": 12,
   "metadata": {},
   "outputs": [
    {
     "data": {
      "text/plain": [
       "FrozenDict({\n",
       "    conv_pw: {\n",
       "        bias: DeviceArray([ 0.07198007,  0.32832983, -0.06896534, ...,  0.0379394 ,\n",
       "                      0.17903507,  0.14680913], dtype=float32),\n",
       "        kernel: DeviceArray([[[[-0.00308658,  0.05362681,  0.06267796, ...,\n",
       "                         0.0191168 ,  0.03318571, -0.07784223],\n",
       "                       [-0.02276003, -0.02192434,  0.0160628 , ...,\n",
       "                         0.01312515, -0.05073744, -0.0310946 ],\n",
       "                       [-0.0949959 ,  0.01023558,  0.04902907, ...,\n",
       "                        -0.01316317, -0.03919592, -0.17295294],\n",
       "                       ...,\n",
       "                       [-0.01776748, -0.05718879, -0.11121324, ...,\n",
       "                         0.07255269,  0.07218304,  0.05545433],\n",
       "                       [-0.00315723, -0.10014784,  0.04519077, ...,\n",
       "                        -0.01987297,  0.12021435, -0.03896476],\n",
       "                       [-0.03151143, -0.13317282,  0.04044706, ...,\n",
       "                         0.03698021,  0.05346029, -0.02826961]]]], dtype=float32),\n",
       "    },\n",
       "})"
      ]
     },
     "execution_count": 12,
     "metadata": {},
     "output_type": "execute_result"
    }
   ],
   "source": [
    "variables['params']['head']"
   ]
  },
  {
   "cell_type": "code",
   "execution_count": null,
   "metadata": {},
   "outputs": [],
   "source": []
  }
 ],
 "metadata": {
  "kernelspec": {
   "display_name": "Python 3.10.4 ('jax')",
   "language": "python",
   "name": "python3"
  },
  "language_info": {
   "codemirror_mode": {
    "name": "ipython",
    "version": 3
   },
   "file_extension": ".py",
   "mimetype": "text/x-python",
   "name": "python",
   "nbconvert_exporter": "python",
   "pygments_lexer": "ipython3",
   "version": "3.10.4"
  },
  "orig_nbformat": 4,
  "vscode": {
   "interpreter": {
    "hash": "e659fceb48dbd83531efb796169c00c60b16d1389dca469eebed7bd1f25f587f"
   }
  }
 },
 "nbformat": 4,
 "nbformat_minor": 2
}
